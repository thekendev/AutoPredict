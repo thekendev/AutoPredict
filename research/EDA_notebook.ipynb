{
 "cells": [
  {
   "cell_type": "markdown",
   "metadata": {},
   "source": [
    "### **AUTOMOTIVE PREDICTOR**\n",
    "\n",
    "#### **Life cycle of Machine learning Project**  \n",
    "\n",
    "Understanding the Problem Statement\n",
    "\n",
    "Data Collection \n",
    "\n",
    "Data Checks to perform\n",
    "\n",
    "Exploratory data analysis\n",
    "\n",
    "Data Pre-Processing\n",
    "\n",
    "Model Training\n",
    "\n",
    "Choose best mode\n",
    "\n",
    "## **Business Intelligence and Analysis** \n",
    "The automotive industry continually strives to enhance vehicle reliability and minimize unexpected breakdowns. Traditional maintenance schedules often fail to account for the unique usage patterns and conditions each vehicle experiences, leading to inefficiencies and potential safety risks.\n",
    "\n",
    "In the context of automotive components, there is a need for a predictive maintenance system that can anticipate failures and maintenance requirements based on historical data. This project aims to leverage a comprehensive dataset of over 90,000 used cars, spanning from 1970 to 2024, to develop a predictive model that identifies vehicles at high risk of failure. By predicting these maintenance needs, AutoPredict seeks to reduce downtime, optimize maintenance schedules, and ultimately improve vehicle safety and performance.\n",
    "\n",
    "#### **Problem Statement** \n",
    "The challenge is to develop a predictive maintenance model that accurately forecasts automotive component failures using historical car data. This model aims to help in proactively addressing maintenance needs, thereby enhancing vehicle reliability, safety, and operational efficiency.\n",
    "\n",
    "\n",
    "\n",
    "### **Goals** \n",
    "**Predict Failures:** Create a supervised learning model to predict the likelihood of automotive component failures based on features such as age, mileage, engine size, and fuel efficiency.\n",
    "\n",
    "**Optimize Maintenance:** Use predictive insights to optimize maintenance schedules, reducing unnecessary maintenance actions and preventing unexpected breakdowns.\n",
    "\n",
    "**Enhance Safety and Performance:** Improve overall vehicle safety and performance by ensuring timely maintenance interventions.\n",
    "\n",
    "\n",
    "\n",
    "### **Creating a Synthetic Failure Label** \n",
    "The dataset does not include a direct feature for predicting failures. To address this, I created a synthetic failure label based on business knowledge and specific parameters. This label was generated using the following criteria:\n",
    "\n",
    "**Age:** Vehicles older than 10 years are more likely to experience failures.\n",
    "\n",
    "**Mileage:** Vehicles with mileage greater than 100,000 miles are more prone to maintenance needs.\n",
    "\n",
    "**Combined Criteria:** Vehicles meeting both the age and mileage thresholds were labeled as likely to fail."
   ]
  },
  {
   "cell_type": "markdown",
   "metadata": {},
   "source": [
    "### Data collection\n",
    "**Dataset source:** https://www.kaggle.com/datasets/meruvulikith/90000-cars-data-from-1970-to-2024\n",
    "\n",
    "The data consists of: 10 columns but we would add 1 more and "
   ]
  },
  {
   "cell_type": "code",
   "execution_count": 1,
   "metadata": {},
   "outputs": [],
   "source": [
    "import pandas as pd"
   ]
  },
  {
   "cell_type": "code",
   "execution_count": null,
   "metadata": {},
   "outputs": [],
   "source": [
    "df = pd.read_csv(\"/Users/kanayojustice/Documents/Data_scientist_projects/AutoPredict/research/data/CarsData.csv\")\n"
   ]
  },
  {
   "cell_type": "code",
   "execution_count": null,
   "metadata": {},
   "outputs": [
    {
     "ename": "AttributeError",
     "evalue": "'str' object has no attribute 'head'",
     "output_type": "error",
     "traceback": [
      "\u001b[0;31m---------------------------------------------------------------------------\u001b[0m",
      "\u001b[0;31mAttributeError\u001b[0m                            Traceback (most recent call last)",
      "Cell \u001b[0;32mIn[4], line 1\u001b[0m\n\u001b[0;32m----> 1\u001b[0m \u001b[43mdf\u001b[49m\u001b[38;5;241;43m.\u001b[39;49m\u001b[43mhead\u001b[49m()\n",
      "\u001b[0;31mAttributeError\u001b[0m: 'str' object has no attribute 'head'"
     ]
    }
   ],
   "source": [
    "df.head()"
   ]
  },
  {
   "cell_type": "code",
   "execution_count": null,
   "metadata": {},
   "outputs": [],
   "source": []
  }
 ],
 "metadata": {
  "kernelspec": {
   "display_name": "Python 3",
   "language": "python",
   "name": "python3"
  },
  "language_info": {
   "codemirror_mode": {
    "name": "ipython",
    "version": 3
   },
   "file_extension": ".py",
   "mimetype": "text/x-python",
   "name": "python",
   "nbconvert_exporter": "python",
   "pygments_lexer": "ipython3",
   "version": "3.8.18"
  }
 },
 "nbformat": 4,
 "nbformat_minor": 2
}
